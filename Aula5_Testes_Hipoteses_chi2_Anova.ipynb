{
  "nbformat": 4,
  "nbformat_minor": 0,
  "metadata": {
    "colab": {
      "provenance": [],
      "authorship_tag": "ABX9TyMip0RW0zBnjhEBCa6waIzg",
      "include_colab_link": true
    },
    "kernelspec": {
      "name": "python3",
      "display_name": "Python 3"
    },
    "language_info": {
      "name": "python"
    }
  },
  "cells": [
    {
      "cell_type": "markdown",
      "metadata": {
        "id": "view-in-github",
        "colab_type": "text"
      },
      "source": [
        "<a href=\"https://colab.research.google.com/github/atc857/chi2anova/blob/main/Aula5_Testes_Hipoteses_chi2_Anova.ipynb\" target=\"_parent\"><img src=\"https://colab.research.google.com/assets/colab-badge.svg\" alt=\"Open In Colab\"/></a>"
      ]
    },
    {
      "cell_type": "markdown",
      "source": [
        "# Testes de hipóteses utilizando Python\n",
        "\n",
        "Disciplina: Metodologia Científica 2 (Métodos Quantitativos)\n",
        "\n",
        "por André T. Campos"
      ],
      "metadata": {
        "id": "sUCHUjMqXm-A"
      }
    },
    {
      "cell_type": "markdown",
      "source": [
        "O pacote `SciPy` possui ferramentas dedicadas à resolução de problemas típicos de computação científica. Nesta aula utilizaremos especificamente o módulo `stats`, que possui uma vasta gama de funcionalidades para lidar com conceitos estatísticos fundamentais. Para maiores informações sobre as funcionalidades disponíveis, consulte a documentação no link https://docs.scipy.org/doc/scipy/reference/stats.html.\n",
        "\n",
        "![SciPy logo](https://www.fullstackpython.com/img/logos/scipy.png)"
      ],
      "metadata": {
        "id": "7HzIie353WNc"
      }
    },
    {
      "cell_type": "code",
      "source": [
        "# Atualização da biblioteca scipy para a versão mais recente disponível.\n",
        "# Google Colab já vem com a biblioteca instalada, porém, pode não ser a versão mais recente. Portanto, é recomendável atualizar.\n",
        "!pip install --upgrade scipy"
      ],
      "metadata": {
        "id": "JQd0GZ7nq0xS"
      },
      "execution_count": null,
      "outputs": []
    },
    {
      "cell_type": "code",
      "execution_count": null,
      "metadata": {
        "id": "kLN1-r35XSVc"
      },
      "outputs": [],
      "source": [
        "# Importação das bibliotecas necessárias\n",
        "from scipy import stats\n",
        "from scipy import optimize\n",
        "import pandas as pd\n",
        "import numpy as np\n",
        "import matplotlib.pyplot as plt\n",
        "import seaborn as sns"
      ]
    },
    {
      "cell_type": "code",
      "source": [
        "# Configuração do estilo dos gráficos\n",
        "sns.set(style='ticks')"
      ],
      "metadata": {
        "id": "FJgl1o1VXb1-"
      },
      "execution_count": null,
      "outputs": []
    },
    {
      "cell_type": "code",
      "source": [
        "# reprodutibilidade\n",
        "np.random.seed(10)"
      ],
      "metadata": {
        "id": "ld-uHsZKYrBG"
      },
      "execution_count": null,
      "outputs": []
    },
    {
      "cell_type": "markdown",
      "source": [
        "# Teste $\\chi ^2$ para independência entre variáveis\n",
        "\n",
        "O objetivo do teste é avaliar se existe associação entre variáveis qualitativas categóricas.\n",
        "\n",
        "Suposições:\n",
        "*   Todas as frequências esperadas são acima de 5.\n",
        "*   Os dados são mutuamente exclusivos."
      ],
      "metadata": {
        "id": "XjJYhA2OgibE"
      }
    },
    {
      "cell_type": "markdown",
      "source": [
        "---\n",
        "\n",
        "\n",
        "**Ex. 4)** Aplicou-se um questionário aos bombeiros militares do Distrito Federal para aferir o grau de concordância com determinada proposta. As respostas possíveis eram \"concorda\", \"discorda\" e \"neutro\". Foram definidas 4 categorias (\"Cabos e Soldados\", \"Subtenentes e Sargentos\", \"Capitães e Tenentes\" e \"Oficiais Superiores\"). As 1.000 respostas estão dispostas na tabela abaixo. Deseja-se verificar se há associação entre a patente do entrevistado e a resposta dada, ao nível de significância de 5%."
      ],
      "metadata": {
        "id": "6oPFJXT4E9f-"
      }
    },
    {
      "cell_type": "markdown",
      "source": [
        "*   A estatística teste é dada por \\\\[ \\chi^2 = \\sum \\frac{ (\\mathcal{O} - \\mathcal{E})^2}{ \\mathcal{E} } \\\\]\n",
        "*   Hipótese nula: \\\\( H_0: \\pi_1 = \\pi_2 \\\\) (variáveis independentes)\n",
        "*   Hipótese alternativa: \\\\( H_1: \\pi_1 \\neq \\pi_2 \\\\) (existe associação entre as variáveis)"
      ],
      "metadata": {
        "id": "KRYGldD9tAh0"
      }
    },
    {
      "cell_type": "code",
      "source": [
        "# Cria base com respostas e respondentes a um questionário de concordância a quesito\n",
        "respondentes = np.random.choice(a= [\"CB_SD\",\"SGT_ST\",\"TEN_CAP\",\"OF_SUP\"],\n",
        "                              p = [0.15, 0.55 ,0.25, 0.05],\n",
        "                              size=1000)\n",
        "\n",
        "respostas = np.random.choice(a= [\"CONCORDA\",\"DISCORDA\",\"NEUTRO\"],\n",
        "                              p = [0.4, 0.2, 0.4],\n",
        "                              size=1000)\n",
        "\n",
        "# Transforma em dataframe as respostas e respondentes\n",
        "resultado = pd.DataFrame({\"patente\":respondentes, \n",
        "                       \"concordancia\":respostas})\n",
        "\n",
        "resultado.head()"
      ],
      "metadata": {
        "id": "KXTwhSxhEsV-"
      },
      "execution_count": null,
      "outputs": []
    },
    {
      "cell_type": "code",
      "source": [
        "# Cria uma tabela de contigência (crosstab)\n",
        "result_tab = pd.crosstab(resultado.patente, resultado.concordancia, margins = True)\n",
        "\n",
        "# Renomeia as colunas\n",
        "result_tab.columns = [\"CONCORDA\",\"DISCORDA\",\"NEUTRO\",\"TOTAL\"]\n",
        "\n",
        "# Renomeia as linhas\n",
        "result_tab.index = [\"CB_SD\",\"SGT_ST\",\"TEN_CAP\",\"OF_SUP\",\"TOTAL\"]\n",
        "\n",
        "result_tab"
      ],
      "metadata": {
        "id": "Y3kBE3G4QmbK"
      },
      "execution_count": null,
      "outputs": []
    },
    {
      "cell_type": "code",
      "source": [
        "# Vamos salvar a tabela sem os totais para usar no teste\n",
        "result_tab = result_tab.iloc[0:4,0:3]\n",
        "result_tab"
      ],
      "metadata": {
        "id": "D25cM-45M_BC"
      },
      "execution_count": null,
      "outputs": []
    },
    {
      "cell_type": "markdown",
      "source": [
        "Usando o módulo `stats`, basta chamar o comando `scipy.stats.chi2_contingency(observed, correction=True, lambda_=None)`, em que:\n",
        "*   `observed` são os dados sob análise numa tabela de contingência\n",
        "*   `correction=True` o padrão `True` aplica a correção de Yates em tabelas 2x2.\n",
        "*   `lambda_` permite aplicar estatística teste diferente da qui-quadrado estático de Pearson.\n",
        "\n",
        "A saída do comando é a estatística do teste (\\\\(\\chi^2 )\\\\), o valor-p, os graus de liberdade e a frequência esperada (mesma dimensão da tabela de contingência)."
      ],
      "metadata": {
        "id": "Rp8F_td5dUHb"
      }
    },
    {
      "cell_type": "code",
      "source": [
        "chi2, p, gl, expect = stats.chi2_contingency(result_tab)\n",
        "chi2,p"
      ],
      "metadata": {
        "id": "bkbCX8OHgnLH"
      },
      "execution_count": null,
      "outputs": []
    },
    {
      "cell_type": "code",
      "source": [
        "# nível de significância\n",
        "alpha = 0.05\n",
        "# Imprime o resultado do teste\n",
        "print(f'A estatística do teste foi qui-quadrado={chi2:.4f}, correspondente ao valor-p de {p:.3%}.')\n",
        "if p <= alpha:\n",
        "  print(f'Hipótese nula rejeitada ao nível de significância de {alpha:.1%}. Portanto, há associação entre as variáveis estudadas.')\n",
        "else:\n",
        "  print(f'Não há evidência suficiente para rejeitar a hipótese nula em favor da hipótese alternativa. Ou seja, assume-se que as variáveis são independentes.')"
      ],
      "metadata": {
        "id": "gzZR8JcbWJfk"
      },
      "execution_count": null,
      "outputs": []
    },
    {
      "cell_type": "code",
      "source": [],
      "metadata": {
        "id": "mdyICLlsEsN-"
      },
      "execution_count": null,
      "outputs": []
    },
    {
      "cell_type": "markdown",
      "source": [
        "## Análise alternativa do resultado do teste (pelo valor da estatística do teste).\n",
        "<img src=\"https://2012books.lardbucket.org/books/beginning-statistics/section_15/34d06306c2e726f6d5cd7479d9736e5e.jpg\"  width=\"50%\" height=\"40%\">"
      ],
      "metadata": {
        "id": "PIDVnJ38gvPF"
      }
    },
    {
      "cell_type": "code",
      "source": [
        "# Valor crítico tabelado de qui-quadrado ao nível de significância definido\n",
        "chi2tab = stats.chi2.ppf(1-alpha, gl)\n",
        "chi2tab"
      ],
      "metadata": {
        "id": "KBnLnqn0YW5Q"
      },
      "execution_count": null,
      "outputs": []
    },
    {
      "cell_type": "code",
      "source": [
        "# Se o valor do teste (chi2) cair acima do valor crítico tabelado (chi2tab), está na região crítica\n",
        "if chi2 > chi2tab:\n",
        "  print(f'Hipótese nula rejeitada, pois qui-quadrado={chi2:.4f} está na região crítica ao nível de significância de {alpha:.1%}.')\n",
        "else:\n",
        "  print(f'Não há evidência suficiente para rejeitar a hipótese nula, pois qui-quadrado={chi2:.4f} está na região de aceitação ao nível de significância de {alpha:.1%}.')"
      ],
      "metadata": {
        "id": "EUHekdzf8j_b"
      },
      "execution_count": null,
      "outputs": []
    },
    {
      "cell_type": "code",
      "source": [],
      "metadata": {
        "id": "TwAb-khyTYRM"
      },
      "execution_count": null,
      "outputs": []
    },
    {
      "cell_type": "code",
      "source": [],
      "metadata": {
        "id": "HjAJ-bK-TXBF"
      },
      "execution_count": null,
      "outputs": []
    },
    {
      "cell_type": "code",
      "source": [],
      "metadata": {
        "id": "1SRXRv0GTW-d"
      },
      "execution_count": null,
      "outputs": []
    },
    {
      "cell_type": "code",
      "source": [],
      "metadata": {
        "id": "d6_HI89MTWzt"
      },
      "execution_count": null,
      "outputs": []
    },
    {
      "cell_type": "markdown",
      "source": [
        "# Análise de variância (ANOVA)\n",
        "\n",
        "O teste **F** é adequado para determinar se as médias de duas ou mais populações são iguais.\n",
        "\n",
        "Suposições:\n",
        "*   As amostras devem ser aleatórias e independentes;\n",
        "*   As amostras devem ser extraídas de populações normais;\n",
        "*   As populações devem ter variâncias iguais."
      ],
      "metadata": {
        "id": "aopASc7IhxtU"
      }
    },
    {
      "cell_type": "markdown",
      "source": [
        "\n",
        "\n",
        "---\n",
        "\n",
        "\n",
        "**Ex. 5)** No mesmo questionário do exemplo anterior também foi perguntado o peso (massa em kg) do entrevistado. Deseja-se aferir se as médias dos pesos são iguais para todos os grupos investigados."
      ],
      "metadata": {
        "id": "NPOsTc9Kft8e"
      }
    },
    {
      "cell_type": "markdown",
      "source": [
        "*   A estatística teste é dada por \\\\[ \\mathrm{F}= \\frac{S_b^2}{S_w^2} = \\frac{ \\frac{ \\sum_{j} n_j (\\bar{x}_j - \\bar{\\bar{x}})^2}{ k-1 } } { \\frac{\\sum_{ij} n_j (x_{ij} - \\bar{x}_j)^2}{\\sum_{j}n_j - k} } \\\\]\n",
        "*   Hipótese nula: \\\\( H_0: \\mu_1 = \\mu_2 = \\cdots  = \\mu_k \\\\) (todas as médias são iguais)\n",
        "*   Hipótese alternativa: \\\\( H_1: \\mu_1 \\neq \\mu_2 \\neq \\cdots \\neq \\mu_k \\\\) (as médias não são todas iguais)"
      ],
      "metadata": {
        "id": "gGxjGjdFfyj1"
      }
    },
    {
      "cell_type": "code",
      "source": [],
      "metadata": {
        "id": "Qp0ON_JQTam0"
      },
      "execution_count": null,
      "outputs": []
    },
    {
      "cell_type": "code",
      "source": [
        "# Cria conjunto de dados com pesos (kg) de militares para diferentes patentes\n",
        "massas = stats.poisson.rvs(loc=10, mu=80, size=1000)\n",
        "# Conjunto de pesos diferentes para uma das patentes\n",
        "massas_alt = stats.poisson.rvs(loc=10, mu=75, size=1000)\n",
        "massas = np.where(respondentes==\"TEN_CAP\",massas_alt,massas)\n",
        "# Transforma em dataframe as respostas e respondentes\n",
        "resultado['peso'] = pd.DataFrame({\"peso\":massas})\n",
        "\n",
        "resultado.head()"
      ],
      "metadata": {
        "id": "oJwn0aiHojFa"
      },
      "execution_count": null,
      "outputs": []
    },
    {
      "cell_type": "code",
      "source": [
        "# Filtra os pesos dos militares por patente e armazena em novas variáveis\n",
        "cb_soldados = resultado.peso[resultado['patente']=='CB_SD']\n",
        "graduados = resultado.peso[resultado['patente']=='SGT_ST']\n",
        "cap_tenentes = resultado.peso[resultado['patente']=='TEN_CAP']\n",
        "of_superiores = resultado.peso[resultado['patente']=='OF_SUP']"
      ],
      "metadata": {
        "id": "oHJ1PBB_1mbj"
      },
      "execution_count": null,
      "outputs": []
    },
    {
      "cell_type": "markdown",
      "source": [
        "Usando o módulo `stats`, basta chamar o comando `scipy.stats.f_oneway(*samples, axis=0)`, em que:\n",
        "*   `*samples` são os dados das medidas para cada categoria (grupo)\n",
        "*   `axis=0` define se a leitura dos dados se dará por linha ou por coluna\n",
        "\n",
        "A saída do comando é a estatística do teste (\\\\(\\mathrm{F} )\\\\) e o valor-p."
      ],
      "metadata": {
        "id": "YSMhvs7c7FfC"
      }
    },
    {
      "cell_type": "code",
      "source": [
        "f, p = stats.f_oneway(cb_soldados,graduados,cap_tenentes,of_superiores)\n",
        "f,p"
      ],
      "metadata": {
        "id": "TBgp64FDT-J1"
      },
      "execution_count": null,
      "outputs": []
    },
    {
      "cell_type": "code",
      "source": [
        "# nível de significância\n",
        "alpha = 0.05\n",
        "# Imprime o resultado do teste\n",
        "print(f'A estatística do teste foi F={f:.4f}, correspondente ao valor-p de {p:.3%}.')\n",
        "if p <= alpha:\n",
        "  print(f'Hipótese nula rejeitada ao nível de significância de {alpha:.1%}. Portanto, as médias não são todas iguais.')\n",
        "else:\n",
        "  print(f'Não há evidência suficiente para rejeitar a hipótese nula em favor da hipótese alternativa. Ou seja, assume-se que as médias são todas iguais.')"
      ],
      "metadata": {
        "id": "qIxi5zfDXpY7"
      },
      "execution_count": null,
      "outputs": []
    },
    {
      "cell_type": "code",
      "source": [],
      "metadata": {
        "id": "2CbGuGajXpS7"
      },
      "execution_count": null,
      "outputs": []
    },
    {
      "cell_type": "code",
      "source": [],
      "metadata": {
        "id": "4rAixEmrXpNE"
      },
      "execution_count": null,
      "outputs": []
    },
    {
      "cell_type": "markdown",
      "source": [
        "## Análise alternativa do resultado do teste (pelo valor da estatística do teste).\n",
        "\n",
        "<img src=\"https://analystprep.com/cfa-level-1-exam/wp-content/uploads/2019/08/cfa-level-1-F-distribution.png\"  width=\"50%\" height=\"40%\">"
      ],
      "metadata": {
        "id": "mYpYWNb4T_W3"
      }
    },
    {
      "cell_type": "code",
      "source": [
        "# Graus de liberdade do numerador\n",
        "k = len(pd.unique(resultado['patente']))\n",
        "gl_num = k - 1\n",
        "# Graus de liberdade do denominador\n",
        "N = len(resultado)\n",
        "gl_den = N - k\n",
        "# Valor crítico tabelado de F ao nível de significância definido\n",
        "ftab = stats.f.ppf(1-alpha, gl_num, gl_den)\n",
        "ftab"
      ],
      "metadata": {
        "id": "kpox2PgAT-Gt"
      },
      "execution_count": null,
      "outputs": []
    },
    {
      "cell_type": "code",
      "source": [
        "# Se o valor do teste cair acima do valor crítico tabelado, está na região crítica\n",
        "if f > ftab:\n",
        "  print(f'Hipótese nula rejeitada, pois F={f:.4f} está na região crítica ao nível de significância de {alpha:.1%}.')\n",
        "else:\n",
        "  print(f'Não há evidência suficiente para rejeitar a hipótese nula, pois F={f:.4f} está na região de aceitação ao nível de significância de {alpha:.1%}.')"
      ],
      "metadata": {
        "id": "nks6PT8qhn5c"
      },
      "execution_count": null,
      "outputs": []
    },
    {
      "cell_type": "markdown",
      "source": [
        "## Pós-Teste Tukey\n",
        "\n",
        "A ANOVA informa se há pelo menos uma das médias diferente entre os grupos sob análise. No entanto, não especifica qual(is) grupo(s) diferem. Então, é costumeiro fazer um *post hoc* teste quando a ANOVA rejeita a hipótese nula para identificar o(s) grupo(s) diferente(s). No caso, vamos utilizar o teste `Tukey`."
      ],
      "metadata": {
        "id": "mUXygSKTdlYa"
      }
    },
    {
      "cell_type": "code",
      "source": [
        "# Importação da biblioteca para o teste Tukey\n",
        "from statsmodels.stats.multicomp import pairwise_tukeyhsd"
      ],
      "metadata": {
        "id": "3XZiDgxuexNj"
      },
      "execution_count": null,
      "outputs": []
    },
    {
      "cell_type": "code",
      "source": [
        "tukey = pairwise_tukeyhsd(endog=resultado['peso'],       # Dados\n",
        "                          groups=resultado['patente'],   # Grupos\n",
        "                          alpha=0.05)                    # Nível de significância\n",
        "\n",
        "tukey.summary()"
      ],
      "metadata": {
        "id": "o_1-7ewUe6zT"
      },
      "execution_count": null,
      "outputs": []
    },
    {
      "cell_type": "markdown",
      "source": [
        "**Conclusão**: o grupo de capitães e tenentes (TEN_CAP) resultou diferente (True) em relação a todos os demais grupos. "
      ],
      "metadata": {
        "id": "MmRWYi62gNye"
      }
    },
    {
      "cell_type": "markdown",
      "source": [
        "#Bônus"
      ],
      "metadata": {
        "id": "ni2uNFD-Hrdi"
      }
    },
    {
      "cell_type": "markdown",
      "source": [
        "**Pingouin** é um pacote estatístico de código aberto escrito em Python 3 relativamente novo. Ele foi desenvolvido para usuários que desejam funções de estatísticas simples, mas exaustivas.\n",
        "\n",
        "A documentação do pacote pode ser consultada em https://pingouin-stats.org/build/html/index.html\n",
        "\n",
        "![](https://pingouin-stats.org/build/html/_images/logo_pingouin.png)"
      ],
      "metadata": {
        "id": "IfXKE07CxRf1"
      }
    },
    {
      "cell_type": "code",
      "source": [
        "# Instalação do pacote\n",
        "!pip install pingouin"
      ],
      "metadata": {
        "id": "FIX8Lft9HvJ1"
      },
      "execution_count": null,
      "outputs": []
    },
    {
      "cell_type": "code",
      "source": [
        "# Importação da biblioteca\n",
        "import pingouin as pg"
      ],
      "metadata": {
        "id": "sYpJZx3pkGgf"
      },
      "execution_count": null,
      "outputs": []
    },
    {
      "cell_type": "markdown",
      "source": [
        "## Teste \\\\( \\chi^2 \\\\) para independência de variáveis"
      ],
      "metadata": {
        "id": "YN-mjY0Piq-u"
      }
    },
    {
      "cell_type": "code",
      "source": [
        "expected, observed, stats = pg.chi2_independence(data=resultado, x='patente', y='concordancia')\n",
        "stats"
      ],
      "metadata": {
        "id": "5HE1iPNdHxJz"
      },
      "execution_count": null,
      "outputs": []
    },
    {
      "cell_type": "code",
      "source": [
        "observed"
      ],
      "metadata": {
        "id": "ad1_eiUGi4FL"
      },
      "execution_count": null,
      "outputs": []
    },
    {
      "cell_type": "code",
      "source": [
        "expected"
      ],
      "metadata": {
        "id": "7TeW-xpFi6g7"
      },
      "execution_count": null,
      "outputs": []
    },
    {
      "cell_type": "markdown",
      "source": [
        "## Teste ANOVA"
      ],
      "metadata": {
        "id": "7ox85aZIm9nc"
      }
    },
    {
      "cell_type": "code",
      "source": [
        "pg.anova(data=resultado, dv='peso', between='patente', detailed=True)"
      ],
      "metadata": {
        "id": "xyQEMNdLnB7O"
      },
      "execution_count": null,
      "outputs": []
    },
    {
      "cell_type": "markdown",
      "source": [
        "## Pós-Teste Tukey"
      ],
      "metadata": {
        "id": "u2juluZhoNXD"
      }
    },
    {
      "cell_type": "code",
      "source": [
        "pg.pairwise_tukey(data=resultado, dv='peso', between='patente')"
      ],
      "metadata": {
        "id": "syKAt4IpoQY7"
      },
      "execution_count": null,
      "outputs": []
    }
  ]
}